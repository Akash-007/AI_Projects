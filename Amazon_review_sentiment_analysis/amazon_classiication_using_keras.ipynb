{
 "cells": [
  {
   "cell_type": "code",
   "execution_count": 1,
   "metadata": {},
   "outputs": [],
   "source": [
    "import pandas as pd\n",
    "import numpy as np\n",
    "import re\n",
    "from nltk.stem import WordNetLemmatizer\n",
    "from nltk.corpus import stopwords\n",
    "from sklearn.model_selection import train_test_split\n",
    "from sklearn.preprocessing import MinMaxScaler\n",
    "from tensorflow.keras import layers\n",
    "from tensorflow.keras import models\n",
    "from tensorflow.keras.preprocessing.text import Tokenizer\n",
    "from tensorflow.keras.preprocessing.sequence import pad_sequences\n",
    "from tensorflow.keras.utils import to_categorical\n",
    "lemaoi = WordNetLemmatizer()\n",
    "import pickle"
   ]
  },
  {
   "cell_type": "code",
   "execution_count": 35,
   "metadata": {},
   "outputs": [],
   "source": [
    "def word_sequence(n_most_words, x, max_len):\n",
    "    tokeniz = Tokenizer(num_words=n_most_words)\n",
    "    tokeniz.fit_on_texts(x.values)\n",
    "    sequen = tokeniz.texts_to_sequences(x.values)\n",
    "    word_index = tokeniz.word_index\n",
    "    X = pad_sequences(sequen, maxlen=max_len)\n",
    "    return X, word_index"
   ]
  },
  {
   "cell_type": "code",
   "execution_count": 3,
   "metadata": {},
   "outputs": [],
   "source": [
    "def under_sample(raw):\n",
    "    posi = raw_data.loc[raw_data['sentiment']=='Positive'][:100]\n",
    "    Neu = raw_data.loc[raw_data['sentiment']=='Neutral'][:100]\n",
    "    Nega = raw_data.loc[raw_data['sentiment']=='Negative']\n",
    "    traning_data = pd.concat([posi, Neu, Nega])\n",
    "    traning_data.reset_index(inplace=True)\n",
    "    traning_data['sentiment'].replace({'Positive':1,'Negative':-1,'Neutral':0}, inplace=True)\n",
    "    return traning_data"
   ]
  },
  {
   "cell_type": "code",
   "execution_count": 3,
   "metadata": {},
   "outputs": [],
   "source": [
    "def over_sample(raw):\n",
    "    posi = raw_data.loc[raw_data['sentiment']=='Positive'][:1000]\n",
    "    Neu = raw_data.loc[raw_data['sentiment']=='Neutral']\n",
    "    Nega = raw_data.loc[raw_data['sentiment']=='Negative']\n",
    "    Neu_new = pd.concat([Neu,Neu,Neu,Neu,Neu,Neu], axis=0)\n",
    "    Nega_new = pd.concat([Nega,Nega,Nega,Nega,Nega,Nega,Nega,Nega,Nega,Nega])\n",
    "    traning_data = pd.concat([posi, Neu_new, Nega_new])\n",
    "    traning_data.reset_index(inplace=True)\n",
    "    traning_data['sentiment'].replace({'Positive':1,'Negative':-1,'Neutral':0}, inplace=True)\n",
    "    return traning_data\n",
    "    "
   ]
  },
  {
   "cell_type": "code",
   "execution_count": 4,
   "metadata": {},
   "outputs": [],
   "source": [
    "def pre_processing(x):\n",
    "    x = x.lower()\n",
    "    x = re.sub('[^a-z0-9 ]','',x)\n",
    "    result = []\n",
    "    for i in x.split():\n",
    "        if i in stopwords.words('english'):\n",
    "            pass\n",
    "        else:\n",
    "            if len(i) <3:\n",
    "                pass\n",
    "            else:\n",
    "                result.append(lemaoi.lemmatize(i))\n",
    "    res = ' '.join(result)\n",
    "    res = re.sub('\\d{2,}\\w+','',res)\n",
    "    return res"
   ]
  },
  {
   "cell_type": "code",
   "execution_count": 5,
   "metadata": {},
   "outputs": [
    {
     "data": {
      "text/html": [
       "<div>\n",
       "<style scoped>\n",
       "    .dataframe tbody tr th:only-of-type {\n",
       "        vertical-align: middle;\n",
       "    }\n",
       "\n",
       "    .dataframe tbody tr th {\n",
       "        vertical-align: top;\n",
       "    }\n",
       "\n",
       "    .dataframe thead th {\n",
       "        text-align: right;\n",
       "    }\n",
       "</style>\n",
       "<table border=\"1\" class=\"dataframe\">\n",
       "  <thead>\n",
       "    <tr style=\"text-align: right;\">\n",
       "      <th></th>\n",
       "      <th>name</th>\n",
       "      <th>brand</th>\n",
       "      <th>categories</th>\n",
       "      <th>primaryCategories</th>\n",
       "      <th>reviews.date</th>\n",
       "      <th>reviews.text</th>\n",
       "      <th>reviews.title</th>\n",
       "      <th>sentiment</th>\n",
       "    </tr>\n",
       "  </thead>\n",
       "  <tbody>\n",
       "    <tr>\n",
       "      <th>0</th>\n",
       "      <td>All-New Fire HD 8 Tablet, 8\" HD Display, Wi-Fi...</td>\n",
       "      <td>Amazon</td>\n",
       "      <td>Electronics,iPad &amp; Tablets,All Tablets,Fire Ta...</td>\n",
       "      <td>Electronics</td>\n",
       "      <td>2016-12-26T00:00:00.000Z</td>\n",
       "      <td>Purchased on Black FridayPros - Great Price (e...</td>\n",
       "      <td>Powerful tablet</td>\n",
       "      <td>Positive</td>\n",
       "    </tr>\n",
       "    <tr>\n",
       "      <th>1</th>\n",
       "      <td>Amazon - Echo Plus w/ Built-In Hub - Silver</td>\n",
       "      <td>Amazon</td>\n",
       "      <td>Amazon Echo,Smart Home,Networking,Home &amp; Tools...</td>\n",
       "      <td>Electronics,Hardware</td>\n",
       "      <td>2018-01-17T00:00:00.000Z</td>\n",
       "      <td>I purchased two Amazon in Echo Plus and two do...</td>\n",
       "      <td>Amazon Echo Plus AWESOME</td>\n",
       "      <td>Positive</td>\n",
       "    </tr>\n",
       "    <tr>\n",
       "      <th>2</th>\n",
       "      <td>Amazon Echo Show Alexa-enabled Bluetooth Speak...</td>\n",
       "      <td>Amazon</td>\n",
       "      <td>Amazon Echo,Virtual Assistant Speakers,Electro...</td>\n",
       "      <td>Electronics,Hardware</td>\n",
       "      <td>2017-12-20T00:00:00.000Z</td>\n",
       "      <td>Just an average Alexa option. Does show a few ...</td>\n",
       "      <td>Average</td>\n",
       "      <td>Neutral</td>\n",
       "    </tr>\n",
       "    <tr>\n",
       "      <th>3</th>\n",
       "      <td>Fire HD 10 Tablet, 10.1 HD Display, Wi-Fi, 16 ...</td>\n",
       "      <td>Amazon</td>\n",
       "      <td>eBook Readers,Fire Tablets,Electronics Feature...</td>\n",
       "      <td>Office Supplies,Electronics</td>\n",
       "      <td>2017-08-04T00:00:00.000Z</td>\n",
       "      <td>very good product. Exactly what I wanted, and ...</td>\n",
       "      <td>Greattttttt</td>\n",
       "      <td>Positive</td>\n",
       "    </tr>\n",
       "    <tr>\n",
       "      <th>4</th>\n",
       "      <td>Brand New Amazon Kindle Fire 16gb 7\" Ips Displ...</td>\n",
       "      <td>Amazon</td>\n",
       "      <td>Computers/Tablets &amp; Networking,Tablets &amp; eBook...</td>\n",
       "      <td>Electronics</td>\n",
       "      <td>2017-01-23T00:00:00.000Z</td>\n",
       "      <td>This is the 3rd one I've purchased. I've bough...</td>\n",
       "      <td>Very durable!</td>\n",
       "      <td>Positive</td>\n",
       "    </tr>\n",
       "  </tbody>\n",
       "</table>\n",
       "</div>"
      ],
      "text/plain": [
       "                                                name   brand  \\\n",
       "0  All-New Fire HD 8 Tablet, 8\" HD Display, Wi-Fi...  Amazon   \n",
       "1        Amazon - Echo Plus w/ Built-In Hub - Silver  Amazon   \n",
       "2  Amazon Echo Show Alexa-enabled Bluetooth Speak...  Amazon   \n",
       "3  Fire HD 10 Tablet, 10.1 HD Display, Wi-Fi, 16 ...  Amazon   \n",
       "4  Brand New Amazon Kindle Fire 16gb 7\" Ips Displ...  Amazon   \n",
       "\n",
       "                                          categories  \\\n",
       "0  Electronics,iPad & Tablets,All Tablets,Fire Ta...   \n",
       "1  Amazon Echo,Smart Home,Networking,Home & Tools...   \n",
       "2  Amazon Echo,Virtual Assistant Speakers,Electro...   \n",
       "3  eBook Readers,Fire Tablets,Electronics Feature...   \n",
       "4  Computers/Tablets & Networking,Tablets & eBook...   \n",
       "\n",
       "             primaryCategories              reviews.date  \\\n",
       "0                  Electronics  2016-12-26T00:00:00.000Z   \n",
       "1         Electronics,Hardware  2018-01-17T00:00:00.000Z   \n",
       "2         Electronics,Hardware  2017-12-20T00:00:00.000Z   \n",
       "3  Office Supplies,Electronics  2017-08-04T00:00:00.000Z   \n",
       "4                  Electronics  2017-01-23T00:00:00.000Z   \n",
       "\n",
       "                                        reviews.text  \\\n",
       "0  Purchased on Black FridayPros - Great Price (e...   \n",
       "1  I purchased two Amazon in Echo Plus and two do...   \n",
       "2  Just an average Alexa option. Does show a few ...   \n",
       "3  very good product. Exactly what I wanted, and ...   \n",
       "4  This is the 3rd one I've purchased. I've bough...   \n",
       "\n",
       "              reviews.title sentiment  \n",
       "0           Powerful tablet  Positive  \n",
       "1  Amazon Echo Plus AWESOME  Positive  \n",
       "2                   Average   Neutral  \n",
       "3               Greattttttt  Positive  \n",
       "4             Very durable!  Positive  "
      ]
     },
     "execution_count": 5,
     "metadata": {},
     "output_type": "execute_result"
    }
   ],
   "source": [
    "raw_data = pd.read_csv('train_data.csv')\n",
    "raw_data.head(5)"
   ]
  },
  {
   "cell_type": "code",
   "execution_count": 6,
   "metadata": {},
   "outputs": [
    {
     "data": {
      "text/plain": [
       "Index(['index', 'name', 'brand', 'categories', 'primaryCategories',\n",
       "       'reviews.date', 'reviews.text', 'reviews.title', 'sentiment'],\n",
       "      dtype='object')"
      ]
     },
     "execution_count": 6,
     "metadata": {},
     "output_type": "execute_result"
    }
   ],
   "source": [
    "train_frame = over_sample(raw_data)\n",
    "train_frame.columns"
   ]
  },
  {
   "cell_type": "code",
   "execution_count": 7,
   "metadata": {},
   "outputs": [
    {
     "data": {
      "text/html": [
       "<div>\n",
       "<style scoped>\n",
       "    .dataframe tbody tr th:only-of-type {\n",
       "        vertical-align: middle;\n",
       "    }\n",
       "\n",
       "    .dataframe tbody tr th {\n",
       "        vertical-align: top;\n",
       "    }\n",
       "\n",
       "    .dataframe thead th {\n",
       "        text-align: right;\n",
       "    }\n",
       "</style>\n",
       "<table border=\"1\" class=\"dataframe\">\n",
       "  <thead>\n",
       "    <tr style=\"text-align: right;\">\n",
       "      <th></th>\n",
       "      <th>data</th>\n",
       "      <th>sentiment</th>\n",
       "    </tr>\n",
       "  </thead>\n",
       "  <tbody>\n",
       "    <tr>\n",
       "      <th>0</th>\n",
       "      <td>Purchased on Black FridayPros - Great Price (e...</td>\n",
       "      <td>1</td>\n",
       "    </tr>\n",
       "    <tr>\n",
       "      <th>1</th>\n",
       "      <td>I purchased two Amazon in Echo Plus and two do...</td>\n",
       "      <td>1</td>\n",
       "    </tr>\n",
       "    <tr>\n",
       "      <th>2</th>\n",
       "      <td>very good product. Exactly what I wanted, and ...</td>\n",
       "      <td>1</td>\n",
       "    </tr>\n",
       "    <tr>\n",
       "      <th>3</th>\n",
       "      <td>This is the 3rd one I've purchased. I've bough...</td>\n",
       "      <td>1</td>\n",
       "    </tr>\n",
       "    <tr>\n",
       "      <th>4</th>\n",
       "      <td>This is a great product. Light weight. I wish ...</td>\n",
       "      <td>1</td>\n",
       "    </tr>\n",
       "  </tbody>\n",
       "</table>\n",
       "</div>"
      ],
      "text/plain": [
       "                                                data  sentiment\n",
       "0  Purchased on Black FridayPros - Great Price (e...          1\n",
       "1  I purchased two Amazon in Echo Plus and two do...          1\n",
       "2  very good product. Exactly what I wanted, and ...          1\n",
       "3  This is the 3rd one I've purchased. I've bough...          1\n",
       "4  This is a great product. Light weight. I wish ...          1"
      ]
     },
     "execution_count": 7,
     "metadata": {},
     "output_type": "execute_result"
    }
   ],
   "source": [
    "train_frame['data'] = train_frame['reviews.text'] + ' '+ train_frame['reviews.title']\n",
    "data_to_train = train_frame.loc[:,['data','sentiment']]\n",
    "data_to_train.head(5)"
   ]
  },
  {
   "cell_type": "code",
   "execution_count": 8,
   "metadata": {},
   "outputs": [
    {
     "data": {
      "text/plain": [
       " 1    1000\n",
       " 0     948\n",
       "-1     930\n",
       "Name: sentiment, dtype: int64"
      ]
     },
     "execution_count": 8,
     "metadata": {},
     "output_type": "execute_result"
    }
   ],
   "source": [
    "data_to_train['sentiment'].value_counts()"
   ]
  },
  {
   "cell_type": "code",
   "execution_count": 9,
   "metadata": {},
   "outputs": [],
   "source": [
    "data_to_train.dropna(axis=0, inplace=True)"
   ]
  },
  {
   "cell_type": "code",
   "execution_count": 10,
   "metadata": {},
   "outputs": [
    {
     "data": {
      "text/html": [
       "<div>\n",
       "<style scoped>\n",
       "    .dataframe tbody tr th:only-of-type {\n",
       "        vertical-align: middle;\n",
       "    }\n",
       "\n",
       "    .dataframe tbody tr th {\n",
       "        vertical-align: top;\n",
       "    }\n",
       "\n",
       "    .dataframe thead th {\n",
       "        text-align: right;\n",
       "    }\n",
       "</style>\n",
       "<table border=\"1\" class=\"dataframe\">\n",
       "  <thead>\n",
       "    <tr style=\"text-align: right;\">\n",
       "      <th></th>\n",
       "      <th>data</th>\n",
       "      <th>sentiment</th>\n",
       "      <th>cleaned_data</th>\n",
       "    </tr>\n",
       "  </thead>\n",
       "  <tbody>\n",
       "    <tr>\n",
       "      <th>0</th>\n",
       "      <td>Purchased on Black FridayPros - Great Price (e...</td>\n",
       "      <td>1</td>\n",
       "      <td>purchased black fridaypros great price even sa...</td>\n",
       "    </tr>\n",
       "    <tr>\n",
       "      <th>1</th>\n",
       "      <td>I purchased two Amazon in Echo Plus and two do...</td>\n",
       "      <td>1</td>\n",
       "      <td>purchased two amazon echo plus two dot plus fo...</td>\n",
       "    </tr>\n",
       "    <tr>\n",
       "      <th>2</th>\n",
       "      <td>very good product. Exactly what I wanted, and ...</td>\n",
       "      <td>1</td>\n",
       "      <td>good product exactly wanted good price greattt...</td>\n",
       "    </tr>\n",
       "    <tr>\n",
       "      <th>3</th>\n",
       "      <td>This is the 3rd one I've purchased. I've bough...</td>\n",
       "      <td>1</td>\n",
       "      <td>3rd one ive purchased ive bought one niece cas...</td>\n",
       "    </tr>\n",
       "    <tr>\n",
       "      <th>4</th>\n",
       "      <td>This is a great product. Light weight. I wish ...</td>\n",
       "      <td>1</td>\n",
       "      <td>great product light weight wish wifi download ...</td>\n",
       "    </tr>\n",
       "    <tr>\n",
       "      <th>...</th>\n",
       "      <td>...</td>\n",
       "      <td>...</td>\n",
       "      <td>...</td>\n",
       "    </tr>\n",
       "    <tr>\n",
       "      <th>2873</th>\n",
       "      <td>Too proprietary, the apps my daughter liked I ...</td>\n",
       "      <td>-1</td>\n",
       "      <td>proprietary apps daughter liked could install ...</td>\n",
       "    </tr>\n",
       "    <tr>\n",
       "      <th>2874</th>\n",
       "      <td>This tablet could be so much better if the app...</td>\n",
       "      <td>-1</td>\n",
       "      <td>tablet could much better apps actually worked ...</td>\n",
       "    </tr>\n",
       "    <tr>\n",
       "      <th>2875</th>\n",
       "      <td>Waste of money, ask Alexa a question and you a...</td>\n",
       "      <td>-1</td>\n",
       "      <td>waste money ask alexa question lucky get answe...</td>\n",
       "    </tr>\n",
       "    <tr>\n",
       "      <th>2876</th>\n",
       "      <td>The tap is a great concept, I love my echo so ...</td>\n",
       "      <td>-1</td>\n",
       "      <td>tap great concept love echo portable one much ...</td>\n",
       "    </tr>\n",
       "    <tr>\n",
       "      <th>2877</th>\n",
       "      <td>After owning the kids Samsung, this seems conf...</td>\n",
       "      <td>-1</td>\n",
       "      <td>owning kid samsung seems confusing navigate al...</td>\n",
       "    </tr>\n",
       "  </tbody>\n",
       "</table>\n",
       "<p>2877 rows × 3 columns</p>\n",
       "</div>"
      ],
      "text/plain": [
       "                                                   data  sentiment  \\\n",
       "0     Purchased on Black FridayPros - Great Price (e...          1   \n",
       "1     I purchased two Amazon in Echo Plus and two do...          1   \n",
       "2     very good product. Exactly what I wanted, and ...          1   \n",
       "3     This is the 3rd one I've purchased. I've bough...          1   \n",
       "4     This is a great product. Light weight. I wish ...          1   \n",
       "...                                                 ...        ...   \n",
       "2873  Too proprietary, the apps my daughter liked I ...         -1   \n",
       "2874  This tablet could be so much better if the app...         -1   \n",
       "2875  Waste of money, ask Alexa a question and you a...         -1   \n",
       "2876  The tap is a great concept, I love my echo so ...         -1   \n",
       "2877  After owning the kids Samsung, this seems conf...         -1   \n",
       "\n",
       "                                           cleaned_data  \n",
       "0     purchased black fridaypros great price even sa...  \n",
       "1     purchased two amazon echo plus two dot plus fo...  \n",
       "2     good product exactly wanted good price greattt...  \n",
       "3     3rd one ive purchased ive bought one niece cas...  \n",
       "4     great product light weight wish wifi download ...  \n",
       "...                                                 ...  \n",
       "2873  proprietary apps daughter liked could install ...  \n",
       "2874  tablet could much better apps actually worked ...  \n",
       "2875  waste money ask alexa question lucky get answe...  \n",
       "2876  tap great concept love echo portable one much ...  \n",
       "2877  owning kid samsung seems confusing navigate al...  \n",
       "\n",
       "[2877 rows x 3 columns]"
      ]
     },
     "execution_count": 10,
     "metadata": {},
     "output_type": "execute_result"
    }
   ],
   "source": [
    "data_to_train['cleaned_data'] = data_to_train['data'].apply(lambda x: pre_processing(x))\n",
    "data_to_train"
   ]
  },
  {
   "cell_type": "code",
   "execution_count": 11,
   "metadata": {},
   "outputs": [
    {
     "data": {
      "text/plain": [
       "array([[0., 1., 0.],\n",
       "       [0., 1., 0.],\n",
       "       [0., 1., 0.],\n",
       "       ...,\n",
       "       [0., 0., 1.],\n",
       "       [0., 0., 1.],\n",
       "       [0., 0., 1.]], dtype=float32)"
      ]
     },
     "execution_count": 11,
     "metadata": {},
     "output_type": "execute_result"
    }
   ],
   "source": [
    "Y = to_categorical(data_to_train['sentiment'], num_classes=3)\n",
    "Y"
   ]
  },
  {
   "cell_type": "code",
   "execution_count": 16,
   "metadata": {},
   "outputs": [],
   "source": [
    "vocab = 2900\n",
    "max_len_for_sen = 30\n",
    "Embedding = 50"
   ]
  },
  {
   "cell_type": "code",
   "execution_count": 36,
   "metadata": {},
   "outputs": [],
   "source": [
    "X, word_i = word_sequence(vocab,data_to_train['cleaned_data'],max_len_for_sen)"
   ]
  },
  {
   "cell_type": "code",
   "execution_count": 18,
   "metadata": {},
   "outputs": [
    {
     "data": {
      "text/plain": [
       "2921"
      ]
     },
     "execution_count": 18,
     "metadata": {},
     "output_type": "execute_result"
    }
   ],
   "source": [
    "max(word_i.values())"
   ]
  },
  {
   "cell_type": "code",
   "execution_count": 19,
   "metadata": {},
   "outputs": [
    {
     "data": {
      "text/plain": [
       "array([[1434,  351, 1845, ...,   94,  627,    1],\n",
       "       [1850,   53,  492, ...,   12,  116,  157],\n",
       "       [   0,    0,    0, ...,    3,   24, 1853],\n",
       "       ...,\n",
       "       [   0,    0,    0, ...,  117,  105,   94],\n",
       "       [   0,    0,    0, ...,    3,  412,   43],\n",
       "       [   0,    0,    0, ...,   73,   56, 1091]])"
      ]
     },
     "execution_count": 19,
     "metadata": {},
     "output_type": "execute_result"
    }
   ],
   "source": [
    "X"
   ]
  },
  {
   "cell_type": "code",
   "execution_count": 20,
   "metadata": {},
   "outputs": [
    {
     "data": {
      "text/plain": [
       "array([1434,  351, 1845, 1846,    4,  260,    4,   29, 1847,    1,  530,\n",
       "        306,  168,  223,   14,  419,    6,    4,  156,   81, 1848,  306,\n",
       "         71,   34, 1849,    2,    1,   94,  627,    1])"
      ]
     },
     "execution_count": 20,
     "metadata": {},
     "output_type": "execute_result"
    }
   ],
   "source": [
    "X[0]"
   ]
  },
  {
   "cell_type": "code",
   "execution_count": 21,
   "metadata": {},
   "outputs": [
    {
     "name": "stdout",
     "output_type": "stream",
     "text": [
      "(2013, 30)\n",
      "(864, 30)\n",
      "(2013, 3)\n",
      "(864, 3)\n"
     ]
    }
   ],
   "source": [
    "x_train, x_test, y_train, y_test = train_test_split(X,Y,test_size=0.3, random_state=42)\n",
    "print(x_train.shape)\n",
    "print(x_test.shape)\n",
    "print(y_train.shape)\n",
    "print(y_test.shape)"
   ]
  },
  {
   "cell_type": "code",
   "execution_count": 22,
   "metadata": {},
   "outputs": [
    {
     "data": {
      "text/plain": [
       "array([   0,    0,    0,    0,    0,    0,    0,    0,    0,    0,    0,\n",
       "          0,    0,    0, 1257, 1258, 1259, 1160,  186,  231,  675, 1209,\n",
       "         18,   68,  190,  251,   87,  708,  173, 1260])"
      ]
     },
     "execution_count": 22,
     "metadata": {},
     "output_type": "execute_result"
    }
   ],
   "source": [
    "x_train[0]"
   ]
  },
  {
   "cell_type": "code",
   "execution_count": 23,
   "metadata": {},
   "outputs": [
    {
     "name": "stdout",
     "output_type": "stream",
     "text": [
      "Model: \"sequential\"\n",
      "_________________________________________________________________\n",
      "Layer (type)                 Output Shape              Param #   \n",
      "=================================================================\n",
      "embedding (Embedding)        (None, 30, 40)            116000    \n",
      "_________________________________________________________________\n",
      "spatial_dropout1d (SpatialDr (None, 30, 40)            0         \n",
      "_________________________________________________________________\n",
      "lstm (LSTM)                  (None, 100)               56400     \n",
      "_________________________________________________________________\n",
      "dense (Dense)                (None, 3)                 303       \n",
      "=================================================================\n",
      "Total params: 172,703\n",
      "Trainable params: 172,703\n",
      "Non-trainable params: 0\n",
      "_________________________________________________________________\n",
      "None\n"
     ]
    }
   ],
   "source": [
    "amazon = models.Sequential()\n",
    "amazon.add(layers.Embedding(vocab, 40, input_length=max_len_for_sen))\n",
    "amazon.add(layers.SpatialDropout1D(0.2))\n",
    "amazon.add(layers.LSTM(100))\n",
    "amazon.add(layers.Dense(3, activation='sigmoid'))\n",
    "print(amazon.summary())"
   ]
  },
  {
   "cell_type": "code",
   "execution_count": 24,
   "metadata": {},
   "outputs": [],
   "source": [
    "amazon.compile(optimizer='adam',loss='categorical_crossentropy',metrics=['acc'])"
   ]
  },
  {
   "cell_type": "code",
   "execution_count": 25,
   "metadata": {},
   "outputs": [
    {
     "name": "stdout",
     "output_type": "stream",
     "text": [
      "Train on 2013 samples\n",
      "Epoch 1/20\n",
      "2013/2013 [==============================] - 7s 3ms/sample - loss: 1.0463 - acc: 0.4486\n",
      "Epoch 2/20\n",
      "2013/2013 [==============================] - 1s 745us/sample - loss: 0.6636 - acc: 0.7273\n",
      "Epoch 3/20\n",
      "2013/2013 [==============================] - 2s 771us/sample - loss: 0.3747 - acc: 0.8594\n",
      "Epoch 4/20\n",
      "2013/2013 [==============================] - 2s 752us/sample - loss: 0.2711 - acc: 0.9126\n",
      "Epoch 5/20\n",
      "2013/2013 [==============================] - 2s 768us/sample - loss: 0.1568 - acc: 0.9568\n",
      "Epoch 6/20\n",
      "2013/2013 [==============================] - 2s 762us/sample - loss: 0.0957 - acc: 0.9752\n",
      "Epoch 7/20\n",
      "2013/2013 [==============================] - 2s 803us/sample - loss: 0.0632 - acc: 0.9806\n",
      "Epoch 8/20\n",
      "2013/2013 [==============================] - 2s 818us/sample - loss: 0.0416 - acc: 0.9906\n",
      "Epoch 9/20\n",
      "2013/2013 [==============================] - 2s 810us/sample - loss: 0.0243 - acc: 0.9940\n",
      "Epoch 10/20\n",
      "2013/2013 [==============================] - 2s 763us/sample - loss: 0.0349 - acc: 0.9916\n",
      "Epoch 11/20\n",
      "2013/2013 [==============================] - 1s 740us/sample - loss: 0.0546 - acc: 0.9866\n",
      "Epoch 12/20\n",
      "2013/2013 [==============================] - 2s 764us/sample - loss: 0.0347 - acc: 0.9925\n",
      "Epoch 13/20\n",
      "2013/2013 [==============================] - 2s 789us/sample - loss: 0.0153 - acc: 0.9970\n",
      "Epoch 14/20\n",
      "2013/2013 [==============================] - 2s 774us/sample - loss: 0.0202 - acc: 0.9945\n",
      "Epoch 15/20\n",
      "2013/2013 [==============================] - 2s 777us/sample - loss: 0.0123 - acc: 0.9975\n",
      "Epoch 16/20\n",
      "2013/2013 [==============================] - 2s 782us/sample - loss: 0.0071 - acc: 0.9985\n",
      "Epoch 17/20\n",
      "2013/2013 [==============================] - 2s 797us/sample - loss: 0.0096 - acc: 0.9970\n",
      "Epoch 18/20\n",
      "2013/2013 [==============================] - 2s 832us/sample - loss: 0.0073 - acc: 0.9975s - loss: \n",
      "Epoch 19/20\n",
      "2013/2013 [==============================] - 2s 799us/sample - loss: 0.0127 - acc: 0.9965\n",
      "Epoch 20/20\n",
      "2013/2013 [==============================] - 2s 769us/sample - loss: 0.0054 - acc: 0.9980\n"
     ]
    },
    {
     "data": {
      "text/plain": [
       "<tensorflow.python.keras.callbacks.History at 0x2adcc887248>"
      ]
     },
     "execution_count": 25,
     "metadata": {},
     "output_type": "execute_result"
    }
   ],
   "source": [
    "amazon.fit(x_train,y_train,batch_size=50,epochs=20)"
   ]
  },
  {
   "cell_type": "code",
   "execution_count": 26,
   "metadata": {},
   "outputs": [
    {
     "name": "stdout",
     "output_type": "stream",
     "text": [
      "864/864 [==============================] - 1s 769us/sample - loss: 0.1700 - acc: 0.9572\n"
     ]
    },
    {
     "data": {
      "text/plain": [
       "[0.16999183223513817, 0.9571759]"
      ]
     },
     "execution_count": 26,
     "metadata": {},
     "output_type": "execute_result"
    }
   ],
   "source": [
    "amazon.evaluate(x_test,y_test)"
   ]
  },
  {
   "cell_type": "code",
   "execution_count": 37,
   "metadata": {},
   "outputs": [],
   "source": [
    "amazon.save('amazon.h5')"
   ]
  },
  {
   "cell_type": "code",
   "execution_count": 34,
   "metadata": {},
   "outputs": [],
   "source": [
    "pickle.dump(token_,open('tokenizer_amazon.pickle','wb'))"
   ]
  },
  {
   "cell_type": "code",
   "execution_count": 43,
   "metadata": {},
   "outputs": [],
   "source": [
    "test_cr = pd.read_csv('test_data.csv')"
   ]
  },
  {
   "cell_type": "code",
   "execution_count": 44,
   "metadata": {},
   "outputs": [],
   "source": [
    "test_cr.dropna(axis=0, inplace=True)"
   ]
  },
  {
   "cell_type": "code",
   "execution_count": 46,
   "metadata": {},
   "outputs": [],
   "source": [
    "test_cr['data'] = test_cr['reviews.text'] + ' '+ test_cr['reviews.title']"
   ]
  },
  {
   "cell_type": "code",
   "execution_count": 47,
   "metadata": {},
   "outputs": [
    {
     "data": {
      "text/html": [
       "<div>\n",
       "<style scoped>\n",
       "    .dataframe tbody tr th:only-of-type {\n",
       "        vertical-align: middle;\n",
       "    }\n",
       "\n",
       "    .dataframe tbody tr th {\n",
       "        vertical-align: top;\n",
       "    }\n",
       "\n",
       "    .dataframe thead th {\n",
       "        text-align: right;\n",
       "    }\n",
       "</style>\n",
       "<table border=\"1\" class=\"dataframe\">\n",
       "  <thead>\n",
       "    <tr style=\"text-align: right;\">\n",
       "      <th></th>\n",
       "      <th>name</th>\n",
       "      <th>brand</th>\n",
       "      <th>categories</th>\n",
       "      <th>primaryCategories</th>\n",
       "      <th>reviews.date</th>\n",
       "      <th>reviews.text</th>\n",
       "      <th>reviews.title</th>\n",
       "      <th>data</th>\n",
       "      <th>cleaned_data</th>\n",
       "    </tr>\n",
       "  </thead>\n",
       "  <tbody>\n",
       "    <tr>\n",
       "      <th>0</th>\n",
       "      <td>Fire Tablet, 7 Display, Wi-Fi, 16 GB - Include...</td>\n",
       "      <td>Amazon</td>\n",
       "      <td>Fire Tablets,Computers/Tablets &amp; Networking,Ta...</td>\n",
       "      <td>Electronics</td>\n",
       "      <td>2016-05-23T00:00:00.000Z</td>\n",
       "      <td>Amazon kindle fire has a lot of free app and c...</td>\n",
       "      <td>very handy device</td>\n",
       "      <td>Amazon kindle fire has a lot of free app and c...</td>\n",
       "      <td>amazon kindle fire lot free app used one want ...</td>\n",
       "    </tr>\n",
       "    <tr>\n",
       "      <th>1</th>\n",
       "      <td>Amazon Echo Show Alexa-enabled Bluetooth Speak...</td>\n",
       "      <td>Amazon</td>\n",
       "      <td>Computers,Amazon Echo,Virtual Assistant Speake...</td>\n",
       "      <td>Electronics,Hardware</td>\n",
       "      <td>2018-01-02T00:00:00.000Z</td>\n",
       "      <td>The Echo Show is a great addition to the Amazo...</td>\n",
       "      <td>Another winner from Amazon</td>\n",
       "      <td>The Echo Show is a great addition to the Amazo...</td>\n",
       "      <td>echo show great addition amazon family work li...</td>\n",
       "    </tr>\n",
       "    <tr>\n",
       "      <th>2</th>\n",
       "      <td>All-New Fire HD 8 Tablet, 8\" HD Display, Wi-Fi...</td>\n",
       "      <td>Amazon</td>\n",
       "      <td>Electronics,iPad &amp; Tablets,All Tablets,Fire Ta...</td>\n",
       "      <td>Electronics</td>\n",
       "      <td>2017-01-02T00:00:00.000Z</td>\n",
       "      <td>Great value from Best Buy. Bought at Christmas...</td>\n",
       "      <td>simple to use and reliable so far</td>\n",
       "      <td>Great value from Best Buy. Bought at Christmas...</td>\n",
       "      <td>great value best buy bought christmas sale sim...</td>\n",
       "    </tr>\n",
       "    <tr>\n",
       "      <th>3</th>\n",
       "      <td>Brand New Amazon Kindle Fire 16gb 7\" Ips Displ...</td>\n",
       "      <td>Amazon</td>\n",
       "      <td>Computers/Tablets &amp; Networking,Tablets &amp; eBook...</td>\n",
       "      <td>Electronics</td>\n",
       "      <td>2017-03-25T00:00:00.000Z</td>\n",
       "      <td>I use mine for email, Facebook ,games and to g...</td>\n",
       "      <td>Love it!!!</td>\n",
       "      <td>I use mine for email, Facebook ,games and to g...</td>\n",
       "      <td>use mine email facebook game line also loaded ...</td>\n",
       "    </tr>\n",
       "    <tr>\n",
       "      <th>4</th>\n",
       "      <td>Amazon Echo Show Alexa-enabled Bluetooth Speak...</td>\n",
       "      <td>Amazon</td>\n",
       "      <td>Computers,Amazon Echo,Virtual Assistant Speake...</td>\n",
       "      <td>Electronics,Hardware</td>\n",
       "      <td>2017-11-15T00:00:00.000Z</td>\n",
       "      <td>This is a fantastic item &amp; the person I bought...</td>\n",
       "      <td>Fantastic!</td>\n",
       "      <td>This is a fantastic item &amp; the person I bought...</td>\n",
       "      <td>fantastic item person bought love fantastic</td>\n",
       "    </tr>\n",
       "    <tr>\n",
       "      <th>...</th>\n",
       "      <td>...</td>\n",
       "      <td>...</td>\n",
       "      <td>...</td>\n",
       "      <td>...</td>\n",
       "      <td>...</td>\n",
       "      <td>...</td>\n",
       "      <td>...</td>\n",
       "      <td>...</td>\n",
       "      <td>...</td>\n",
       "    </tr>\n",
       "    <tr>\n",
       "      <th>995</th>\n",
       "      <td>Amazon Echo Show Alexa-enabled Bluetooth Speak...</td>\n",
       "      <td>Amazon</td>\n",
       "      <td>Computers,Amazon Echo,Virtual Assistant Speake...</td>\n",
       "      <td>Electronics,Hardware</td>\n",
       "      <td>2017-12-07T18:06:07.000Z</td>\n",
       "      <td>We love Alexa! Love being able to watch news b...</td>\n",
       "      <td>Awesome</td>\n",
       "      <td>We love Alexa! Love being able to watch news b...</td>\n",
       "      <td>love alexa love able watch news briefing seein...</td>\n",
       "    </tr>\n",
       "    <tr>\n",
       "      <th>996</th>\n",
       "      <td>Amazon Tap - Alexa-Enabled Portable Bluetooth ...</td>\n",
       "      <td>Amazon</td>\n",
       "      <td>Amazon Echo,Home Theater &amp; Audio,MP3 MP4 Playe...</td>\n",
       "      <td>Electronics</td>\n",
       "      <td>2017-01-23T00:00:00.000Z</td>\n",
       "      <td>Speaker is pretty loud and I love that I can t...</td>\n",
       "      <td>Good Bluetooth device</td>\n",
       "      <td>Speaker is pretty loud and I love that I can t...</td>\n",
       "      <td>speaker pretty loud love take downside hold ho...</td>\n",
       "    </tr>\n",
       "    <tr>\n",
       "      <th>997</th>\n",
       "      <td>Fire HD 8 Tablet with Alexa, 8\" HD Display, 32...</td>\n",
       "      <td>Amazon</td>\n",
       "      <td>Tablets,Fire Tablets,Computers &amp; Tablets,All T...</td>\n",
       "      <td>Electronics</td>\n",
       "      <td>2017-01-18T00:00:00.000Z</td>\n",
       "      <td>Bought 2 of these for my 6 and 8 yr old and it...</td>\n",
       "      <td>good product for kids</td>\n",
       "      <td>Bought 2 of these for my 6 and 8 yr old and it...</td>\n",
       "      <td>bought old said came  storage actual storage l...</td>\n",
       "    </tr>\n",
       "    <tr>\n",
       "      <th>998</th>\n",
       "      <td>All-New Fire HD 8 Tablet, 8\" HD Display, Wi-Fi...</td>\n",
       "      <td>Amazon</td>\n",
       "      <td>Electronics,iPad &amp; Tablets,All Tablets,Fire Ta...</td>\n",
       "      <td>Electronics</td>\n",
       "      <td>2016-12-12T00:00:00.000Z</td>\n",
       "      <td>Was told by sales person I could come back in ...</td>\n",
       "      <td>Was misled on price match. Item is okay.</td>\n",
       "      <td>Was told by sales person I could come back in ...</td>\n",
       "      <td>told sale person could come back week receipt ...</td>\n",
       "    </tr>\n",
       "    <tr>\n",
       "      <th>999</th>\n",
       "      <td>Fire Tablet, 7 Display, Wi-Fi, 16 GB - Include...</td>\n",
       "      <td>Amazon</td>\n",
       "      <td>Fire Tablets,Computers/Tablets &amp; Networking,Ta...</td>\n",
       "      <td>Electronics</td>\n",
       "      <td>2017-06-17T00:00:00.000Z</td>\n",
       "      <td>I purchased this as a gift for my mother. Her ...</td>\n",
       "      <td>Great gift</td>\n",
       "      <td>I purchased this as a gift for my mother. Her ...</td>\n",
       "      <td>purchased gift mother first tablet love easy n...</td>\n",
       "    </tr>\n",
       "  </tbody>\n",
       "</table>\n",
       "<p>997 rows × 9 columns</p>\n",
       "</div>"
      ],
      "text/plain": [
       "                                                  name   brand  \\\n",
       "0    Fire Tablet, 7 Display, Wi-Fi, 16 GB - Include...  Amazon   \n",
       "1    Amazon Echo Show Alexa-enabled Bluetooth Speak...  Amazon   \n",
       "2    All-New Fire HD 8 Tablet, 8\" HD Display, Wi-Fi...  Amazon   \n",
       "3    Brand New Amazon Kindle Fire 16gb 7\" Ips Displ...  Amazon   \n",
       "4    Amazon Echo Show Alexa-enabled Bluetooth Speak...  Amazon   \n",
       "..                                                 ...     ...   \n",
       "995  Amazon Echo Show Alexa-enabled Bluetooth Speak...  Amazon   \n",
       "996  Amazon Tap - Alexa-Enabled Portable Bluetooth ...  Amazon   \n",
       "997  Fire HD 8 Tablet with Alexa, 8\" HD Display, 32...  Amazon   \n",
       "998  All-New Fire HD 8 Tablet, 8\" HD Display, Wi-Fi...  Amazon   \n",
       "999  Fire Tablet, 7 Display, Wi-Fi, 16 GB - Include...  Amazon   \n",
       "\n",
       "                                            categories     primaryCategories  \\\n",
       "0    Fire Tablets,Computers/Tablets & Networking,Ta...           Electronics   \n",
       "1    Computers,Amazon Echo,Virtual Assistant Speake...  Electronics,Hardware   \n",
       "2    Electronics,iPad & Tablets,All Tablets,Fire Ta...           Electronics   \n",
       "3    Computers/Tablets & Networking,Tablets & eBook...           Electronics   \n",
       "4    Computers,Amazon Echo,Virtual Assistant Speake...  Electronics,Hardware   \n",
       "..                                                 ...                   ...   \n",
       "995  Computers,Amazon Echo,Virtual Assistant Speake...  Electronics,Hardware   \n",
       "996  Amazon Echo,Home Theater & Audio,MP3 MP4 Playe...           Electronics   \n",
       "997  Tablets,Fire Tablets,Computers & Tablets,All T...           Electronics   \n",
       "998  Electronics,iPad & Tablets,All Tablets,Fire Ta...           Electronics   \n",
       "999  Fire Tablets,Computers/Tablets & Networking,Ta...           Electronics   \n",
       "\n",
       "                 reviews.date  \\\n",
       "0    2016-05-23T00:00:00.000Z   \n",
       "1    2018-01-02T00:00:00.000Z   \n",
       "2    2017-01-02T00:00:00.000Z   \n",
       "3    2017-03-25T00:00:00.000Z   \n",
       "4    2017-11-15T00:00:00.000Z   \n",
       "..                        ...   \n",
       "995  2017-12-07T18:06:07.000Z   \n",
       "996  2017-01-23T00:00:00.000Z   \n",
       "997  2017-01-18T00:00:00.000Z   \n",
       "998  2016-12-12T00:00:00.000Z   \n",
       "999  2017-06-17T00:00:00.000Z   \n",
       "\n",
       "                                          reviews.text  \\\n",
       "0    Amazon kindle fire has a lot of free app and c...   \n",
       "1    The Echo Show is a great addition to the Amazo...   \n",
       "2    Great value from Best Buy. Bought at Christmas...   \n",
       "3    I use mine for email, Facebook ,games and to g...   \n",
       "4    This is a fantastic item & the person I bought...   \n",
       "..                                                 ...   \n",
       "995  We love Alexa! Love being able to watch news b...   \n",
       "996  Speaker is pretty loud and I love that I can t...   \n",
       "997  Bought 2 of these for my 6 and 8 yr old and it...   \n",
       "998  Was told by sales person I could come back in ...   \n",
       "999  I purchased this as a gift for my mother. Her ...   \n",
       "\n",
       "                                reviews.title  \\\n",
       "0                           very handy device   \n",
       "1                  Another winner from Amazon   \n",
       "2           simple to use and reliable so far   \n",
       "3                                  Love it!!!   \n",
       "4                                  Fantastic!   \n",
       "..                                        ...   \n",
       "995                                   Awesome   \n",
       "996                     Good Bluetooth device   \n",
       "997                     good product for kids   \n",
       "998  Was misled on price match. Item is okay.   \n",
       "999                                Great gift   \n",
       "\n",
       "                                                  data  \\\n",
       "0    Amazon kindle fire has a lot of free app and c...   \n",
       "1    The Echo Show is a great addition to the Amazo...   \n",
       "2    Great value from Best Buy. Bought at Christmas...   \n",
       "3    I use mine for email, Facebook ,games and to g...   \n",
       "4    This is a fantastic item & the person I bought...   \n",
       "..                                                 ...   \n",
       "995  We love Alexa! Love being able to watch news b...   \n",
       "996  Speaker is pretty loud and I love that I can t...   \n",
       "997  Bought 2 of these for my 6 and 8 yr old and it...   \n",
       "998  Was told by sales person I could come back in ...   \n",
       "999  I purchased this as a gift for my mother. Her ...   \n",
       "\n",
       "                                          cleaned_data  \n",
       "0    amazon kindle fire lot free app used one want ...  \n",
       "1    echo show great addition amazon family work li...  \n",
       "2    great value best buy bought christmas sale sim...  \n",
       "3    use mine email facebook game line also loaded ...  \n",
       "4          fantastic item person bought love fantastic  \n",
       "..                                                 ...  \n",
       "995  love alexa love able watch news briefing seein...  \n",
       "996  speaker pretty loud love take downside hold ho...  \n",
       "997  bought old said came  storage actual storage l...  \n",
       "998  told sale person could come back week receipt ...  \n",
       "999  purchased gift mother first tablet love easy n...  \n",
       "\n",
       "[997 rows x 9 columns]"
      ]
     },
     "execution_count": 47,
     "metadata": {},
     "output_type": "execute_result"
    }
   ],
   "source": [
    "test_cr['cleaned_data'] = test_cr['data'].apply(lambda x: pre_processing(x))\n",
    "test_cr"
   ]
  },
  {
   "cell_type": "code",
   "execution_count": 48,
   "metadata": {},
   "outputs": [],
   "source": [
    "y_test_cr,wi= word_sequence(vocab,test_cr['cleaned_data'],max_len_for_sen)"
   ]
  },
  {
   "cell_type": "code",
   "execution_count": 51,
   "metadata": {},
   "outputs": [],
   "source": [
    "y_pred = amazon.predict_classes(y_test_cr)"
   ]
  },
  {
   "cell_type": "code",
   "execution_count": 52,
   "metadata": {},
   "outputs": [
    {
     "data": {
      "text/plain": [
       "array([1, 0, 1, 1, 1, 1, 2, 0, 0, 1, 1, 1, 2, 0, 0, 1, 1, 1, 0, 1, 1, 1,\n",
       "       1, 1, 1, 1, 1, 1, 1, 0, 0, 1, 0, 0, 1, 0, 1, 1, 0, 1, 0, 1, 1, 1,\n",
       "       1, 0, 1, 1, 1, 2, 1, 0, 0, 2, 2, 1, 1, 1, 2, 1, 1, 1, 2, 1, 1, 1,\n",
       "       0, 0, 2, 1, 0, 2, 0, 1, 1, 0, 1, 1, 1, 1, 1, 1, 0, 0, 1, 1, 0, 0,\n",
       "       2, 1, 2, 1, 1, 1, 1, 0, 1, 0, 0, 1, 1, 1, 1, 0, 0, 2, 1, 0, 0, 1,\n",
       "       1, 0, 0, 1, 2, 1, 1, 1, 2, 0, 0, 1, 1, 2, 0, 0, 1, 1, 1, 1, 1, 1,\n",
       "       1, 1, 0, 1, 1, 1, 1, 1, 1, 1, 0, 0, 0, 0, 1, 0, 1, 1, 1, 1, 1, 0,\n",
       "       0, 1, 1, 2, 0, 1, 1, 0, 0, 1, 1, 0, 1, 2, 1, 1, 0, 1, 1, 1, 2, 0,\n",
       "       1, 1, 0, 1, 1, 1, 1, 1, 0, 1, 0, 0, 0, 1, 1, 1, 0, 1, 1, 0, 1, 0,\n",
       "       0, 1, 1, 0, 1, 0, 1, 1, 0, 2, 2, 1, 2, 1, 1, 2, 1, 1, 1, 2, 1, 1,\n",
       "       1, 2, 1, 0, 1, 1, 1, 1, 1, 1, 2, 1, 1, 1, 1, 0, 1, 2, 1, 1, 1, 0,\n",
       "       2, 0, 2, 1, 2, 1, 1, 0, 0, 1, 1, 1, 1, 1, 2, 1, 0, 2, 1, 1, 2, 1,\n",
       "       0, 1, 1, 1, 2, 2, 0, 0, 1, 0, 1, 0, 2, 2, 1, 1, 1, 2, 0, 1, 0, 1,\n",
       "       2, 2, 1, 0, 2, 1, 1, 1, 1, 2, 2, 1, 1, 1, 1, 1, 1, 1, 1, 1, 1, 1,\n",
       "       2, 1, 1, 1, 1, 1, 1, 1, 1, 0, 1, 1, 0, 0, 1, 0, 1, 1, 2, 1, 0, 2,\n",
       "       1, 0, 0, 0, 2, 2, 1, 1, 1, 1, 0, 1, 1, 2, 0, 2, 2, 1, 1, 2, 2, 1,\n",
       "       2, 0, 1, 1, 1, 0, 1, 1, 1, 1, 2, 2, 2, 2, 0, 1, 0, 1, 1, 0, 1, 1,\n",
       "       0, 2, 1, 1, 1, 1, 1, 1, 2, 0, 1, 1, 1, 2, 2, 1, 1, 1, 0, 1, 2, 1,\n",
       "       2, 1, 1, 1, 1, 1, 0, 2, 2, 1, 0, 1, 0, 1, 1, 2, 1, 1, 1, 1, 1, 1,\n",
       "       1, 2, 1, 0, 1, 1, 0, 1, 1, 1, 1, 1, 1, 0, 1, 0, 1, 1, 1, 1, 1, 1,\n",
       "       1, 1, 1, 1, 0, 1, 2, 1, 1, 1, 1, 2, 1, 0, 1, 1, 1, 1, 1, 1, 2, 1,\n",
       "       1, 0, 1, 0, 0, 1, 2, 1, 1, 1, 2, 0, 1, 0, 1, 1, 1, 1, 2, 1, 2, 1,\n",
       "       2, 1, 0, 0, 1, 1, 1, 1, 1, 0, 2, 1, 1, 0, 1, 2, 1, 1, 1, 1, 2, 0,\n",
       "       1, 0, 1, 1, 1, 2, 1, 2, 2, 1, 1, 2, 1, 1, 1, 0, 2, 2, 1, 1, 2, 1,\n",
       "       2, 1, 2, 1, 1, 1, 1, 2, 2, 1, 1, 1, 1, 1, 1, 1, 0, 1, 0, 1, 2, 1,\n",
       "       1, 2, 1, 1, 1, 0, 1, 0, 1, 1, 1, 0, 2, 0, 0, 0, 2, 0, 1, 1, 0, 1,\n",
       "       1, 1, 1, 2, 1, 1, 0, 1, 1, 1, 1, 1, 1, 1, 1, 2, 1, 1, 0, 2, 2, 1,\n",
       "       1, 1, 1, 0, 2, 1, 0, 1, 1, 2, 1, 1, 2, 1, 1, 2, 1, 0, 1, 0, 1, 0,\n",
       "       0, 1, 2, 1, 1, 0, 2, 0, 1, 1, 2, 1, 2, 0, 1, 1, 1, 1, 1, 1, 1, 1,\n",
       "       1, 1, 0, 0, 0, 0, 1, 1, 1, 1, 1, 1, 1, 1, 1, 1, 1, 1, 1, 2, 2, 2,\n",
       "       1, 0, 1, 0, 1, 1, 1, 1, 1, 0, 1, 1, 1, 0, 1, 2, 1, 1, 1, 0, 1, 2,\n",
       "       1, 0, 0, 2, 1, 0, 1, 1, 1, 0, 1, 1, 1, 0, 2, 1, 2, 0, 0, 0, 1, 1,\n",
       "       0, 1, 1, 0, 1, 0, 0, 2, 0, 2, 1, 1, 0, 1, 2, 0, 2, 1, 0, 2, 1, 2,\n",
       "       1, 1, 1, 1, 1, 1, 2, 0, 0, 1, 1, 1, 1, 0, 2, 2, 2, 1, 2, 1, 1, 1,\n",
       "       1, 0, 1, 1, 1, 2, 1, 2, 0, 1, 2, 2, 2, 0, 1, 1, 1, 2, 0, 1, 1, 1,\n",
       "       1, 1, 1, 1, 1, 1, 0, 2, 1, 1, 1, 0, 1, 1, 0, 1, 2, 0, 1, 1, 1, 1,\n",
       "       1, 0, 1, 0, 1, 1, 1, 0, 0, 2, 1, 1, 1, 0, 1, 1, 0, 0, 1, 1, 2, 1,\n",
       "       1, 2, 1, 1, 1, 1, 1, 1, 0, 1, 1, 2, 1, 0, 1, 1, 1, 0, 1, 0, 1, 1,\n",
       "       0, 1, 1, 1, 0, 1, 1, 1, 1, 1, 0, 1, 0, 1, 1, 1, 1, 1, 2, 1, 2, 1,\n",
       "       0, 1, 0, 1, 1, 0, 1, 0, 1, 1, 1, 1, 0, 2, 2, 2, 0, 1, 1, 0, 0, 1,\n",
       "       0, 1, 1, 1, 1, 1, 1, 0, 1, 1, 1, 2, 0, 2, 1, 1, 0, 0, 2, 1, 1, 1,\n",
       "       1, 1, 0, 2, 1, 1, 1, 1, 0, 1, 0, 1, 2, 1, 2, 0, 0, 1, 0, 1, 1, 1,\n",
       "       1, 1, 1, 0, 0, 1, 2, 1, 1, 1, 0, 1, 1, 1, 0, 0, 1, 2, 1, 1, 0, 1,\n",
       "       1, 1, 1, 2, 1, 2, 0, 0, 1, 1, 1, 1, 0, 1, 0, 2, 1, 1, 0, 0, 2, 1,\n",
       "       0, 2, 2, 1, 0, 0, 1, 1, 2, 2, 0, 1, 2, 1, 1, 1, 1, 0, 1, 1, 1, 0,\n",
       "       2, 1, 2, 0, 1, 1, 1], dtype=int64)"
      ]
     },
     "execution_count": 52,
     "metadata": {},
     "output_type": "execute_result"
    }
   ],
   "source": [
    "y_pred"
   ]
  },
  {
   "cell_type": "code",
   "execution_count": null,
   "metadata": {},
   "outputs": [],
   "source": []
  }
 ],
 "metadata": {
  "kernelspec": {
   "display_name": "Python 3",
   "language": "python",
   "name": "python3"
  },
  "language_info": {
   "codemirror_mode": {
    "name": "ipython",
    "version": 3
   },
   "file_extension": ".py",
   "mimetype": "text/x-python",
   "name": "python",
   "nbconvert_exporter": "python",
   "pygments_lexer": "ipython3",
   "version": "3.7.6"
  }
 },
 "nbformat": 4,
 "nbformat_minor": 4
}
