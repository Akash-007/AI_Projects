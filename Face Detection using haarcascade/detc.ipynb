{
 "cells": [
  {
   "cell_type": "code",
   "execution_count": 1,
   "metadata": {},
   "outputs": [],
   "source": [
    "import cv2 as cv\n",
    "import matplotlib.pyplot as plt\n",
    "import numpy as np"
   ]
  },
  {
   "cell_type": "code",
   "execution_count": 2,
   "metadata": {},
   "outputs": [],
   "source": [
    "face_cascade = cv.CascadeClassifier('..\\haar\\data\\haarcascade_frontalface_default.xml')"
   ]
  },
  {
   "cell_type": "code",
   "execution_count": 3,
   "metadata": {},
   "outputs": [],
   "source": [
    "mouth_cascade = cv.CascadeClassifier(r'C:\\Users\\HP\\AI Projects\\Computer_Vision\\Computer-Vision-with-Python\\DATA\\haarcascades\\mouth.xml')"
   ]
  },
  {
   "cell_type": "code",
   "execution_count": 10,
   "metadata": {},
   "outputs": [],
   "source": [
    "def detect_face(img):\n",
    "    count = 0\n",
    "    face_img = img.copy()\n",
    "    \n",
    "    #im = cv2.imread(path + 'pillar.png', 1)\n",
    "    font = cv.FONT_HERSHEY_SIMPLEX\n",
    "    \n",
    "    \n",
    "    face_rects = face_cascade.detectMultiScale(face_img,scaleFactor=2,minNeighbors=2) \n",
    "    for (x,y,w,h) in face_rects:\n",
    "        count = count + 1\n",
    "        #cv.rectangle(face_img, (x,y), (x+w,y+h), (255,0,0), 3) \n",
    "    cv.putText(face_img, str(count), (10,450), font, 3, (0, 255, 0), 2, cv.LINE_AA)\n",
    "        \n",
    "    return face_img"
   ]
  },
  {
   "cell_type": "code",
   "execution_count": 12,
   "metadata": {},
   "outputs": [],
   "source": [
    "cap = cv.VideoCapture(0) \n",
    "\n",
    "while True: \n",
    "    \n",
    "    ret, frame = cap.read(0) \n",
    "     \n",
    "    frame = detect_face(frame)\n",
    " \n",
    "    cv.imshow('Video Face Detection', frame) \n",
    " \n",
    "    if cv.waitKey(1) & 0xFF == ord('q'):\n",
    "        break\n",
    "        \n",
    "cap.release() \n",
    "cv.destroyAllWindows()"
   ]
  },
  {
   "cell_type": "code",
   "execution_count": 13,
   "metadata": {},
   "outputs": [],
   "source": [
    "img = cv.imread('F:\\Akash Images\\Malhar MAchi\\IMG_20170722_083745.jpg')\n",
    "resized = cv.resize(img, (300,300), interpolation = cv.INTER_AREA)\n",
    "frame_new  = detect_face(frame)\n",
    "cv.imshow('No of user',frame_new)"
   ]
  }
 ],
 "metadata": {
  "kernelspec": {
   "display_name": "Python 3",
   "language": "python",
   "name": "python3"
  },
  "language_info": {
   "codemirror_mode": {
    "name": "ipython",
    "version": 3
   },
   "file_extension": ".py",
   "mimetype": "text/x-python",
   "name": "python",
   "nbconvert_exporter": "python",
   "pygments_lexer": "ipython3",
   "version": "3.6.6"
  }
 },
 "nbformat": 4,
 "nbformat_minor": 4
}
