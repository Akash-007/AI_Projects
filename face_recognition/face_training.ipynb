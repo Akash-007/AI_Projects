{
 "cells": [
  {
   "cell_type": "code",
   "execution_count": 16,
   "metadata": {},
   "outputs": [],
   "source": [
    "import cv2 as cv\n",
    "import matplotlib.pyplot as plt\n",
    "import numpy as np\n",
    "import os"
   ]
  },
  {
   "cell_type": "code",
   "execution_count": 17,
   "metadata": {},
   "outputs": [],
   "source": [
    "face_cascade = cv.CascadeClassifier('..\\haar\\data\\haarcascade_frontalface_default.xml')"
   ]
  },
  {
   "cell_type": "code",
   "execution_count": 18,
   "metadata": {},
   "outputs": [],
   "source": [
    "\n"
   ]
  },
  {
   "cell_type": "code",
   "execution_count": 19,
   "metadata": {},
   "outputs": [],
   "source": [
    "def extract_face(img):\n",
    "    \n",
    "    face_img = img.copy()\n",
    "    face_rects = face_cascade.detectMultiScale(face_img,scaleFactor=2,minNeighbors=2)\n",
    "    #face_gr = cv.cvtColor(face_img,cv.COLOR_BAYER_BG2GRAY)\n",
    "    if face_rects is ():\n",
    "        return None\n",
    "    for (x,y,w,h) in face_rects: \n",
    "        #cv.rectangle(face_img, (x,y), (x+w,y+h), (255,0,0), 3)\n",
    "        croppped_img = face_img[y:y+h+50,x:x+w+50]\n",
    "        \n",
    "    return croppped_img"
   ]
  },
  {
   "cell_type": "code",
   "execution_count": 20,
   "metadata": {},
   "outputs": [],
   "source": [
    "def detect_face(img):\n",
    "    \n",
    "    face_img = img.copy()\n",
    "    face_rects = face_cascade.detectMultiScale(face_img,scaleFactor=2,minNeighbors=2) \n",
    "    for (x,y,w,h) in face_rects: \n",
    "        cv.rectangle(face_img, (x,y), (x+w,y+h), (255,0,0), 3) \n",
    "        \n",
    "        \n",
    "    return face_img"
   ]
  },
  {
   "cell_type": "code",
   "execution_count": 21,
   "metadata": {},
   "outputs": [
    {
     "data": {
      "text/plain": [
       "'C:\\\\Users\\\\HP\\\\AI Projects\\\\Computer_Vision\\\\face_detection'"
      ]
     },
     "execution_count": 21,
     "metadata": {},
     "output_type": "execute_result"
    }
   ],
   "source": [
    "os.getcwd()"
   ]
  },
  {
   "cell_type": "code",
   "execution_count": 26,
   "metadata": {},
   "outputs": [],
   "source": [
    "cap = cv.VideoCapture(0) \n",
    "path = os.getcwd()\n",
    "count = 1\n",
    "trainable= 'Sonali'\n",
    "while True: \n",
    "    \n",
    "    ret, frame = cap.read(0) \n",
    "    if count < 300:\n",
    "        if extract_face(frame) is not None:\n",
    "            save_m = cv.resize(extract_face(frame),(400,400))\n",
    "            if os.path.exists(path + '\\\\'+trainable):\n",
    "                cv.imwrite(path + '\\\\'+trainable + '\\\\' + '{}.jpg'.format(count),save_m)\n",
    "            else:\n",
    "                os.makedirs(path + '\\\\'+trainable)\n",
    "                cv.imwrite(path + '\\\\'+trainable + '\\\\' + '{}.jpg'.format(count),save_m)\n",
    "            count = count + 1\n",
    "        else:\n",
    "            pass\n",
    "    \n",
    "                          \n",
    "    frame = detect_face(frame)\n",
    "    font = cv.FONT_HERSHEY_SIMPLEX \n",
    "    if count < 300:\n",
    "        # Using cv2.putText() method \n",
    "        image = cv.putText(frame, str(count), (50,50), font, 1, (255, 0, 0) , 2, cv.LINE_AA) \n",
    "        cv.imshow('Video Face Detection', frame)\n",
    "    else:\n",
    "        image = cv.putText(frame, 'Training Completed', (50,50), font, 1, (255, 0, 0) , 2, cv.LINE_AA) \n",
    "        cv.imshow('Video Face Detection', frame)\n",
    "        \n",
    "        \n",
    "     \n",
    " \n",
    "    if cv.waitKey(1) & 0xFF == ord('q'):\n",
    "        break\n",
    "        \n",
    "cap.release() \n",
    "cv.destroyAllWindows()"
   ]
  },
  {
   "cell_type": "code",
   "execution_count": null,
   "metadata": {},
   "outputs": [],
   "source": []
  }
 ],
 "metadata": {
  "kernelspec": {
   "display_name": "Python 3",
   "language": "python",
   "name": "python3"
  },
  "language_info": {
   "codemirror_mode": {
    "name": "ipython",
    "version": 3
   },
   "file_extension": ".py",
   "mimetype": "text/x-python",
   "name": "python",
   "nbconvert_exporter": "python",
   "pygments_lexer": "ipython3",
   "version": "3.7.6"
  }
 },
 "nbformat": 4,
 "nbformat_minor": 4
}
